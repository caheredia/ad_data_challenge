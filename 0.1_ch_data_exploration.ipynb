{
 "cells": [
  {
   "cell_type": "markdown",
   "metadata": {
    "toc": true
   },
   "source": [
    "<h1>Table of Contents<span class=\"tocSkip\"></span></h1>\n",
    "<div class=\"toc\"><ul class=\"toc-item\"><li><span><a href=\"#Executive-Summary\" data-toc-modified-id=\"Executive-Summary-1\"><span class=\"toc-item-num\">1&nbsp;&nbsp;</span>Executive Summary</a></span></li><li><span><a href=\"#Ideas-for-notebook\" data-toc-modified-id=\"Ideas-for-notebook-2\"><span class=\"toc-item-num\">2&nbsp;&nbsp;</span>Ideas for notebook</a></span></li><li><span><a href=\"#Metric-Goals\" data-toc-modified-id=\"Metric-Goals-3\"><span class=\"toc-item-num\">3&nbsp;&nbsp;</span>Metric Goals</a></span></li><li><span><a href=\"#Load-Data\" data-toc-modified-id=\"Load-Data-4\"><span class=\"toc-item-num\">4&nbsp;&nbsp;</span>Load Data</a></span><ul class=\"toc-item\"><li><span><a href=\"#Data-schema\" data-toc-modified-id=\"Data-schema-4.1\"><span class=\"toc-item-num\">4.1&nbsp;&nbsp;</span>Data schema</a></span></li><li><span><a href=\"#Change-from-daily-grain-to-weekly\" data-toc-modified-id=\"Change-from-daily-grain-to-weekly-4.2\"><span class=\"toc-item-num\">4.2&nbsp;&nbsp;</span>Change from daily grain to weekly</a></span></li></ul></li><li><span><a href=\"#Efficiency-metrics\" data-toc-modified-id=\"Efficiency-metrics-5\"><span class=\"toc-item-num\">5&nbsp;&nbsp;</span>Efficiency metrics</a></span><ul class=\"toc-item\"><li><span><a href=\"#CTR\" data-toc-modified-id=\"CTR-5.1\"><span class=\"toc-item-num\">5.1&nbsp;&nbsp;</span>CTR</a></span><ul class=\"toc-item\"><li><span><a href=\"#US-CTR-rankings-(by-mean-values)\" data-toc-modified-id=\"US-CTR-rankings-(by-mean-values)-5.1.1\"><span class=\"toc-item-num\">5.1.1&nbsp;&nbsp;</span>US CTR rankings (by mean values)</a></span></li><li><span><a href=\"#UK-CTR-rankings-(by-mean-values)\" data-toc-modified-id=\"UK-CTR-rankings-(by-mean-values)-5.1.2\"><span class=\"toc-item-num\">5.1.2&nbsp;&nbsp;</span>UK CTR rankings (by mean values)</a></span></li></ul></li><li><span><a href=\"#CPC\" data-toc-modified-id=\"CPC-5.2\"><span class=\"toc-item-num\">5.2&nbsp;&nbsp;</span>CPC</a></span><ul class=\"toc-item\"><li><span><a href=\"#US-CPC-rankings-(by-mean-values)\" data-toc-modified-id=\"US-CPC-rankings-(by-mean-values)-5.2.1\"><span class=\"toc-item-num\">5.2.1&nbsp;&nbsp;</span>US CPC rankings (by mean values)</a></span></li><li><span><a href=\"#UK-CPC-rankings-(by-mean-values)\" data-toc-modified-id=\"UK-CPC-rankings-(by-mean-values)-5.2.2\"><span class=\"toc-item-num\">5.2.2&nbsp;&nbsp;</span>UK CPC rankings (by mean values)</a></span></li></ul></li></ul></li><li><span><a href=\"#Analysis\" data-toc-modified-id=\"Analysis-6\"><span class=\"toc-item-num\">6&nbsp;&nbsp;</span>Analysis</a></span><ul class=\"toc-item\"><li><span><a href=\"#US\" data-toc-modified-id=\"US-6.1\"><span class=\"toc-item-num\">6.1&nbsp;&nbsp;</span>US</a></span><ul class=\"toc-item\"><li><span><a href=\"#US-Top-common-keywords-in-CTR-and-CPC-top-10\" data-toc-modified-id=\"US-Top-common-keywords-in-CTR-and-CPC-top-10-6.1.1\"><span class=\"toc-item-num\">6.1.1&nbsp;&nbsp;</span>US Top common keywords in CTR and CPC top 10</a></span></li><li><span><a href=\"#US-Bottom-common-keywords-in-CTR-and-CPC-bottom-9\" data-toc-modified-id=\"US-Bottom-common-keywords-in-CTR-and-CPC-bottom-9-6.1.2\"><span class=\"toc-item-num\">6.1.2&nbsp;&nbsp;</span>US Bottom common keywords in CTR and CPC bottom 9</a></span></li></ul></li><li><span><a href=\"#UK\" data-toc-modified-id=\"UK-6.2\"><span class=\"toc-item-num\">6.2&nbsp;&nbsp;</span>UK</a></span><ul class=\"toc-item\"><li><span><a href=\"#UK-Top-10-keywords-in-CTR-and-CPC\" data-toc-modified-id=\"UK-Top-10-keywords-in-CTR-and-CPC-6.2.1\"><span class=\"toc-item-num\">6.2.1&nbsp;&nbsp;</span>UK Top 10 keywords in CTR and CPC</a></span></li><li><span><a href=\"#UK-Bottom-9-keywords-in-CTR-and-CPC\" data-toc-modified-id=\"UK-Bottom-9-keywords-in-CTR-and-CPC-6.2.2\"><span class=\"toc-item-num\">6.2.2&nbsp;&nbsp;</span>UK Bottom 9 keywords in CTR and CPC</a></span></li></ul></li><li><span><a href=\"#Visualizations\" data-toc-modified-id=\"Visualizations-6.3\"><span class=\"toc-item-num\">6.3&nbsp;&nbsp;</span>Visualizations</a></span></li></ul></li><li><span><a href=\"#General-Trends\" data-toc-modified-id=\"General-Trends-7\"><span class=\"toc-item-num\">7&nbsp;&nbsp;</span>General Trends</a></span></li></ul></div>"
   ]
  },
  {
   "cell_type": "code",
   "execution_count": 161,
   "metadata": {},
   "outputs": [
    {
     "name": "stdout",
     "output_type": "stream",
     "text": [
      "The watermark extension is already loaded. To reload it, use:\n",
      "  %reload_ext watermark\n"
     ]
    }
   ],
   "source": [
    "import pandas as pd\n",
    "import matplotlib.pyplot as plt \n",
    "import numpy as np\n",
    "%load_ext watermark"
   ]
  },
  {
   "cell_type": "code",
   "execution_count": 162,
   "metadata": {},
   "outputs": [
    {
     "name": "stdout",
     "output_type": "stream",
     "text": [
      "Mon Feb 11 2019 \n",
      "\n",
      "CPython 3.7.1\n",
      "IPython 7.2.0\n",
      "\n",
      "numpy 1.15.4\n",
      "\n",
      "compiler   : Clang 4.0.1 (tags/RELEASE_401/final)\n",
      "system     : Darwin\n",
      "release    : 17.7.0\n",
      "machine    : x86_64\n",
      "processor  : i386\n",
      "CPU cores  : 4\n",
      "interpreter: 64bit\n",
      "Git hash   : 1e82042b9b8806c66951e3c746e84e3a2a89c6c0\n"
     ]
    }
   ],
   "source": [
    "# watermark\n",
    "%watermark -v -n -m -p numpy -g"
   ]
  },
  {
   "cell_type": "markdown",
   "metadata": {},
   "source": [
    "# Executive Summary "
   ]
  },
  {
   "cell_type": "markdown",
   "metadata": {},
   "source": [
    "# Ideas for notebook \n",
    "- execute data make file from notebook\n",
    "- notebook will serve more as a dashboard and report \n",
    "- consider spark lines to show evolution of click thru rates"
   ]
  },
  {
   "cell_type": "markdown",
   "metadata": {},
   "source": [
    "# Metric Goals\n",
    "\n",
    "In order to have an efficient ad campaign we prefer high percentage metrics and low cost metrics. Some available metrics include: \n",
    "\n",
    "- **Click Through Rate (CTR)** percentage of impressions that turn into clicks \n",
    "- **Conversion Rate** percentage of clicks that convert to actions taken\n",
    "- **Cost per Click (CPC)** total spend divided by total clicks \n",
    "- **Cost per Acquisition (CPA)** total spend / total conversions\n",
    "\n",
    "Given the metrics included in the **Data schema** below, we'll focus on **CTR** and **CPC** metrics for global and regional campaigns. If the table had conversion data, then we could analyze conversions metrics as well. "
   ]
  },
  {
   "cell_type": "markdown",
   "metadata": {},
   "source": [
    "# Load Data"
   ]
  },
  {
   "cell_type": "markdown",
   "metadata": {},
   "source": [
    "## Data schema \n",
    "- date : date the data was recorded\n",
    "- country : country the data was recorded for\n",
    "- keyword : keyword associated with the campaign\n",
    "- global_monthly_searches : total monthly searches for that keyword on google globally\n",
    "- ad_position : how close to the top of the search result page the ad appeared (1 is the top)\n",
    "- daily_clicks : number of clicks that occurred that day for the keyword\n",
    "- daily_cost : amount of money spent for the clicks on that keyword on that day\n",
    "- local_monthly_searches : total monthly searches for that keyword on google for the country\n",
    "- impressions : number of times the ad was shown to a user that day for that keyword"
   ]
  },
  {
   "cell_type": "code",
   "execution_count": 163,
   "metadata": {},
   "outputs": [
    {
     "data": {
      "text/html": [
       "<div>\n",
       "<style scoped>\n",
       "    .dataframe tbody tr th:only-of-type {\n",
       "        vertical-align: middle;\n",
       "    }\n",
       "\n",
       "    .dataframe tbody tr th {\n",
       "        vertical-align: top;\n",
       "    }\n",
       "\n",
       "    .dataframe thead th {\n",
       "        text-align: right;\n",
       "    }\n",
       "</style>\n",
       "<table border=\"1\" class=\"dataframe\">\n",
       "  <thead>\n",
       "    <tr style=\"text-align: right;\">\n",
       "      <th></th>\n",
       "      <th>country</th>\n",
       "      <th>keyword</th>\n",
       "      <th>global_monthly_searches</th>\n",
       "      <th>ad_position</th>\n",
       "      <th>daily_clicks</th>\n",
       "      <th>daily_cost</th>\n",
       "      <th>local_monthly_searches</th>\n",
       "      <th>impressions</th>\n",
       "    </tr>\n",
       "    <tr>\n",
       "      <th>date</th>\n",
       "      <th></th>\n",
       "      <th></th>\n",
       "      <th></th>\n",
       "      <th></th>\n",
       "      <th></th>\n",
       "      <th></th>\n",
       "      <th></th>\n",
       "      <th></th>\n",
       "    </tr>\n",
       "  </thead>\n",
       "  <tbody>\n",
       "    <tr>\n",
       "      <th>2011-12-25</th>\n",
       "      <td>UK</td>\n",
       "      <td>financial services</td>\n",
       "      <td>4090000.0</td>\n",
       "      <td>1.0</td>\n",
       "      <td>8.0</td>\n",
       "      <td>234.22</td>\n",
       "      <td>246000.0</td>\n",
       "      <td>4757</td>\n",
       "    </tr>\n",
       "    <tr>\n",
       "      <th>2011-12-25</th>\n",
       "      <td>UK</td>\n",
       "      <td>certificate of deposit</td>\n",
       "      <td>1830000.0</td>\n",
       "      <td>1.0</td>\n",
       "      <td>148.0</td>\n",
       "      <td>159.49</td>\n",
       "      <td>201000.0</td>\n",
       "      <td>60635</td>\n",
       "    </tr>\n",
       "    <tr>\n",
       "      <th>2011-12-25</th>\n",
       "      <td>UK</td>\n",
       "      <td>joint account</td>\n",
       "      <td>201000.0</td>\n",
       "      <td>1.0</td>\n",
       "      <td>1.0</td>\n",
       "      <td>0.20</td>\n",
       "      <td>8100.0</td>\n",
       "      <td>26</td>\n",
       "    </tr>\n",
       "    <tr>\n",
       "      <th>2011-12-25</th>\n",
       "      <td>UK</td>\n",
       "      <td>insurance</td>\n",
       "      <td>33100.0</td>\n",
       "      <td>1.0</td>\n",
       "      <td>28.0</td>\n",
       "      <td>490.98</td>\n",
       "      <td>6600.0</td>\n",
       "      <td>34975</td>\n",
       "    </tr>\n",
       "    <tr>\n",
       "      <th>2011-12-25</th>\n",
       "      <td>UK</td>\n",
       "      <td>checking account</td>\n",
       "      <td>450000.0</td>\n",
       "      <td>1.0</td>\n",
       "      <td>50.0</td>\n",
       "      <td>133.00</td>\n",
       "      <td>33100.0</td>\n",
       "      <td>16997</td>\n",
       "    </tr>\n",
       "  </tbody>\n",
       "</table>\n",
       "</div>"
      ],
      "text/plain": [
       "           country                 keyword  global_monthly_searches  \\\n",
       "date                                                                  \n",
       "2011-12-25      UK      financial services                4090000.0   \n",
       "2011-12-25      UK  certificate of deposit                1830000.0   \n",
       "2011-12-25      UK           joint account                 201000.0   \n",
       "2011-12-25      UK               insurance                  33100.0   \n",
       "2011-12-25      UK        checking account                 450000.0   \n",
       "\n",
       "            ad_position  daily_clicks  daily_cost  local_monthly_searches  \\\n",
       "date                                                                        \n",
       "2011-12-25          1.0           8.0      234.22                246000.0   \n",
       "2011-12-25          1.0         148.0      159.49                201000.0   \n",
       "2011-12-25          1.0           1.0        0.20                  8100.0   \n",
       "2011-12-25          1.0          28.0      490.98                  6600.0   \n",
       "2011-12-25          1.0          50.0      133.00                 33100.0   \n",
       "\n",
       "            impressions  \n",
       "date                     \n",
       "2011-12-25         4757  \n",
       "2011-12-25        60635  \n",
       "2011-12-25           26  \n",
       "2011-12-25        34975  \n",
       "2011-12-25        16997  "
      ]
     },
     "execution_count": 163,
     "metadata": {},
     "output_type": "execute_result"
    }
   ],
   "source": [
    "file_location = 'data/raw/data_challenge.csv'\n",
    "data = pd.read_csv(file_location, index_col='date')\n",
    "data.index = pd.to_datetime(data.index)\n",
    "data.head()"
   ]
  },
  {
   "cell_type": "markdown",
   "metadata": {},
   "source": [
    "## Change from daily grain to weekly\n",
    "Keeping only features relevant to CTR and CPC. In this case we sum features by day for the week, using the Pandas resample method.  "
   ]
  },
  {
   "cell_type": "code",
   "execution_count": 271,
   "metadata": {},
   "outputs": [
    {
     "data": {
      "text/html": [
       "<div>\n",
       "<style scoped>\n",
       "    .dataframe tbody tr th:only-of-type {\n",
       "        vertical-align: middle;\n",
       "    }\n",
       "\n",
       "    .dataframe tbody tr th {\n",
       "        vertical-align: top;\n",
       "    }\n",
       "\n",
       "    .dataframe thead th {\n",
       "        text-align: right;\n",
       "    }\n",
       "</style>\n",
       "<table border=\"1\" class=\"dataframe\">\n",
       "  <thead>\n",
       "    <tr style=\"text-align: right;\">\n",
       "      <th></th>\n",
       "      <th>daily_clicks</th>\n",
       "      <th>daily_cost</th>\n",
       "      <th>impressions</th>\n",
       "    </tr>\n",
       "    <tr>\n",
       "      <th>date</th>\n",
       "      <th></th>\n",
       "      <th></th>\n",
       "      <th></th>\n",
       "    </tr>\n",
       "  </thead>\n",
       "  <tbody>\n",
       "    <tr>\n",
       "      <th>2011-12-25</th>\n",
       "      <td>2435.0</td>\n",
       "      <td>15042.900000</td>\n",
       "      <td>71904681</td>\n",
       "    </tr>\n",
       "    <tr>\n",
       "      <th>2012-01-01</th>\n",
       "      <td>68478.0</td>\n",
       "      <td>471561.325000</td>\n",
       "      <td>4916441932</td>\n",
       "    </tr>\n",
       "    <tr>\n",
       "      <th>2012-01-08</th>\n",
       "      <td>87086.0</td>\n",
       "      <td>636497.591667</td>\n",
       "      <td>8839203547</td>\n",
       "    </tr>\n",
       "    <tr>\n",
       "      <th>2012-01-15</th>\n",
       "      <td>117209.0</td>\n",
       "      <td>936095.200000</td>\n",
       "      <td>13620597748</td>\n",
       "    </tr>\n",
       "    <tr>\n",
       "      <th>2012-01-22</th>\n",
       "      <td>111821.0</td>\n",
       "      <td>961486.345000</td>\n",
       "      <td>13214692042</td>\n",
       "    </tr>\n",
       "  </tbody>\n",
       "</table>\n",
       "</div>"
      ],
      "text/plain": [
       "            daily_clicks     daily_cost  impressions\n",
       "date                                                \n",
       "2011-12-25        2435.0   15042.900000     71904681\n",
       "2012-01-01       68478.0  471561.325000   4916441932\n",
       "2012-01-08       87086.0  636497.591667   8839203547\n",
       "2012-01-15      117209.0  936095.200000  13620597748\n",
       "2012-01-22      111821.0  961486.345000  13214692042"
      ]
     },
     "execution_count": 271,
     "metadata": {},
     "output_type": "execute_result"
    }
   ],
   "source": [
    "data = data[['country', 'keyword', 'daily_clicks', 'daily_cost', 'impressions']].resample('W').sum()\n",
    "data.head()"
   ]
  },
  {
   "cell_type": "markdown",
   "metadata": {},
   "source": [
    "# Efficiency metrics"
   ]
  },
  {
   "cell_type": "markdown",
   "metadata": {},
   "source": [
    "## CTR"
   ]
  },
  {
   "cell_type": "code",
   "execution_count": 164,
   "metadata": {},
   "outputs": [],
   "source": [
    "# define click thru rate\n",
    "data['CTR'] = data['daily_clicks'] / data['impressions']"
   ]
  },
  {
   "cell_type": "markdown",
   "metadata": {},
   "source": [
    "### US CTR rankings (by mean values)"
   ]
  },
  {
   "cell_type": "code",
   "execution_count": 165,
   "metadata": {},
   "outputs": [
    {
     "data": {
      "text/html": [
       "<div>\n",
       "<style scoped>\n",
       "    .dataframe tbody tr th:only-of-type {\n",
       "        vertical-align: middle;\n",
       "    }\n",
       "\n",
       "    .dataframe tbody tr th {\n",
       "        vertical-align: top;\n",
       "    }\n",
       "\n",
       "    .dataframe thead th {\n",
       "        text-align: right;\n",
       "    }\n",
       "</style>\n",
       "<table border=\"1\" class=\"dataframe\">\n",
       "  <thead>\n",
       "    <tr style=\"text-align: right;\">\n",
       "      <th></th>\n",
       "      <th>CTR</th>\n",
       "    </tr>\n",
       "    <tr>\n",
       "      <th>keyword</th>\n",
       "      <th></th>\n",
       "    </tr>\n",
       "  </thead>\n",
       "  <tbody>\n",
       "    <tr>\n",
       "      <th>banking careers</th>\n",
       "      <td>0.064094</td>\n",
       "    </tr>\n",
       "    <tr>\n",
       "      <th>rewards card</th>\n",
       "      <td>0.059658</td>\n",
       "    </tr>\n",
       "    <tr>\n",
       "      <th>bankruptcy</th>\n",
       "      <td>0.047311</td>\n",
       "    </tr>\n",
       "    <tr>\n",
       "      <th>interest rate</th>\n",
       "      <td>0.046541</td>\n",
       "    </tr>\n",
       "    <tr>\n",
       "      <th>debit</th>\n",
       "      <td>0.037072</td>\n",
       "    </tr>\n",
       "    <tr>\n",
       "      <th>atm</th>\n",
       "      <td>0.034837</td>\n",
       "    </tr>\n",
       "    <tr>\n",
       "      <th>credit cards</th>\n",
       "      <td>0.029102</td>\n",
       "    </tr>\n",
       "    <tr>\n",
       "      <th>mortgage</th>\n",
       "      <td>0.026018</td>\n",
       "    </tr>\n",
       "    <tr>\n",
       "      <th>lawyer</th>\n",
       "      <td>0.015995</td>\n",
       "    </tr>\n",
       "    <tr>\n",
       "      <th>checking account</th>\n",
       "      <td>0.010506</td>\n",
       "    </tr>\n",
       "    <tr>\n",
       "      <th>insurance</th>\n",
       "      <td>0.006733</td>\n",
       "    </tr>\n",
       "    <tr>\n",
       "      <th>consolidate loans</th>\n",
       "      <td>0.004434</td>\n",
       "    </tr>\n",
       "    <tr>\n",
       "      <th>wire transfer</th>\n",
       "      <td>0.003668</td>\n",
       "    </tr>\n",
       "    <tr>\n",
       "      <th>joint account</th>\n",
       "      <td>0.002561</td>\n",
       "    </tr>\n",
       "    <tr>\n",
       "      <th>certificate of deposit</th>\n",
       "      <td>0.001972</td>\n",
       "    </tr>\n",
       "    <tr>\n",
       "      <th>minimum balance</th>\n",
       "      <td>0.001725</td>\n",
       "    </tr>\n",
       "    <tr>\n",
       "      <th>overdraft fee</th>\n",
       "      <td>0.001658</td>\n",
       "    </tr>\n",
       "    <tr>\n",
       "      <th>financial services</th>\n",
       "      <td>0.001376</td>\n",
       "    </tr>\n",
       "    <tr>\n",
       "      <th>loans</th>\n",
       "      <td>0.000621</td>\n",
       "    </tr>\n",
       "  </tbody>\n",
       "</table>\n",
       "</div>"
      ],
      "text/plain": [
       "                             CTR\n",
       "keyword                         \n",
       "banking careers         0.064094\n",
       "rewards card            0.059658\n",
       "bankruptcy              0.047311\n",
       "interest rate           0.046541\n",
       "debit                   0.037072\n",
       "atm                     0.034837\n",
       "credit cards            0.029102\n",
       "mortgage                0.026018\n",
       "lawyer                  0.015995\n",
       "checking account        0.010506\n",
       "insurance               0.006733\n",
       "consolidate loans       0.004434\n",
       "wire transfer           0.003668\n",
       "joint account           0.002561\n",
       "certificate of deposit  0.001972\n",
       "minimum balance         0.001725\n",
       "overdraft fee           0.001658\n",
       "financial services      0.001376\n",
       "loans                   0.000621"
      ]
     },
     "execution_count": 165,
     "metadata": {},
     "output_type": "execute_result"
    }
   ],
   "source": [
    "region = 'US'\n",
    "\n",
    "\n",
    "def rank_ctr(data, region):\n",
    "    df = (data[data['country'] == region]\n",
    "          .groupby('keyword')[['CTR']]\n",
    "          .agg('mean')\n",
    "          .sort_values(by='CTR', ascending=False))\n",
    "    return df\n",
    "\n",
    "\n",
    "us_ctr = rank_ctr(data, region)\n",
    "us_ctr"
   ]
  },
  {
   "cell_type": "markdown",
   "metadata": {},
   "source": [
    "### UK CTR rankings (by mean values)"
   ]
  },
  {
   "cell_type": "code",
   "execution_count": 166,
   "metadata": {},
   "outputs": [
    {
     "data": {
      "text/html": [
       "<div>\n",
       "<style scoped>\n",
       "    .dataframe tbody tr th:only-of-type {\n",
       "        vertical-align: middle;\n",
       "    }\n",
       "\n",
       "    .dataframe tbody tr th {\n",
       "        vertical-align: top;\n",
       "    }\n",
       "\n",
       "    .dataframe thead th {\n",
       "        text-align: right;\n",
       "    }\n",
       "</style>\n",
       "<table border=\"1\" class=\"dataframe\">\n",
       "  <thead>\n",
       "    <tr style=\"text-align: right;\">\n",
       "      <th></th>\n",
       "      <th>CTR</th>\n",
       "    </tr>\n",
       "    <tr>\n",
       "      <th>keyword</th>\n",
       "      <th></th>\n",
       "    </tr>\n",
       "  </thead>\n",
       "  <tbody>\n",
       "    <tr>\n",
       "      <th>bankruptcy</th>\n",
       "      <td>0.063706</td>\n",
       "    </tr>\n",
       "    <tr>\n",
       "      <th>atm</th>\n",
       "      <td>0.052742</td>\n",
       "    </tr>\n",
       "    <tr>\n",
       "      <th>credit cards</th>\n",
       "      <td>0.052474</td>\n",
       "    </tr>\n",
       "    <tr>\n",
       "      <th>overdraft fee</th>\n",
       "      <td>0.050241</td>\n",
       "    </tr>\n",
       "    <tr>\n",
       "      <th>joint account</th>\n",
       "      <td>0.049761</td>\n",
       "    </tr>\n",
       "    <tr>\n",
       "      <th>debit</th>\n",
       "      <td>0.048501</td>\n",
       "    </tr>\n",
       "    <tr>\n",
       "      <th>interest rate</th>\n",
       "      <td>0.044282</td>\n",
       "    </tr>\n",
       "    <tr>\n",
       "      <th>rewards card</th>\n",
       "      <td>0.042312</td>\n",
       "    </tr>\n",
       "    <tr>\n",
       "      <th>banking careers</th>\n",
       "      <td>0.037037</td>\n",
       "    </tr>\n",
       "    <tr>\n",
       "      <th>wire transfer</th>\n",
       "      <td>0.037015</td>\n",
       "    </tr>\n",
       "    <tr>\n",
       "      <th>mortgage</th>\n",
       "      <td>0.032923</td>\n",
       "    </tr>\n",
       "    <tr>\n",
       "      <th>minimum balance</th>\n",
       "      <td>0.013647</td>\n",
       "    </tr>\n",
       "    <tr>\n",
       "      <th>insurance</th>\n",
       "      <td>0.013331</td>\n",
       "    </tr>\n",
       "    <tr>\n",
       "      <th>consolidate loans</th>\n",
       "      <td>0.009110</td>\n",
       "    </tr>\n",
       "    <tr>\n",
       "      <th>financial services</th>\n",
       "      <td>0.005117</td>\n",
       "    </tr>\n",
       "    <tr>\n",
       "      <th>certificate of deposit</th>\n",
       "      <td>0.004353</td>\n",
       "    </tr>\n",
       "    <tr>\n",
       "      <th>lawyer</th>\n",
       "      <td>0.002442</td>\n",
       "    </tr>\n",
       "    <tr>\n",
       "      <th>checking account</th>\n",
       "      <td>0.002334</td>\n",
       "    </tr>\n",
       "    <tr>\n",
       "      <th>loans</th>\n",
       "      <td>0.001607</td>\n",
       "    </tr>\n",
       "  </tbody>\n",
       "</table>\n",
       "</div>"
      ],
      "text/plain": [
       "                             CTR\n",
       "keyword                         \n",
       "bankruptcy              0.063706\n",
       "atm                     0.052742\n",
       "credit cards            0.052474\n",
       "overdraft fee           0.050241\n",
       "joint account           0.049761\n",
       "debit                   0.048501\n",
       "interest rate           0.044282\n",
       "rewards card            0.042312\n",
       "banking careers         0.037037\n",
       "wire transfer           0.037015\n",
       "mortgage                0.032923\n",
       "minimum balance         0.013647\n",
       "insurance               0.013331\n",
       "consolidate loans       0.009110\n",
       "financial services      0.005117\n",
       "certificate of deposit  0.004353\n",
       "lawyer                  0.002442\n",
       "checking account        0.002334\n",
       "loans                   0.001607"
      ]
     },
     "execution_count": 166,
     "metadata": {},
     "output_type": "execute_result"
    }
   ],
   "source": [
    "region = 'UK'\n",
    "uk_ctr = rank_ctr(data, region)\n",
    "uk_ctr"
   ]
  },
  {
   "cell_type": "markdown",
   "metadata": {},
   "source": [
    "## CPC"
   ]
  },
  {
   "cell_type": "code",
   "execution_count": 167,
   "metadata": {},
   "outputs": [],
   "source": [
    "# define daily CPC, total spend / total clicks \n",
    "data['CPC'] = data['daily_cost'] / data['daily_clicks']\n",
    "# replace inf with None, this handles days with zero clicks\n",
    "data['CPC'].replace(np.inf, None, inplace=True)"
   ]
  },
  {
   "cell_type": "markdown",
   "metadata": {},
   "source": [
    "### US CPC rankings (by mean values)"
   ]
  },
  {
   "cell_type": "code",
   "execution_count": 168,
   "metadata": {},
   "outputs": [
    {
     "data": {
      "text/html": [
       "<div>\n",
       "<style scoped>\n",
       "    .dataframe tbody tr th:only-of-type {\n",
       "        vertical-align: middle;\n",
       "    }\n",
       "\n",
       "    .dataframe tbody tr th {\n",
       "        vertical-align: top;\n",
       "    }\n",
       "\n",
       "    .dataframe thead th {\n",
       "        text-align: right;\n",
       "    }\n",
       "</style>\n",
       "<table border=\"1\" class=\"dataframe\">\n",
       "  <thead>\n",
       "    <tr style=\"text-align: right;\">\n",
       "      <th></th>\n",
       "      <th>CPC</th>\n",
       "    </tr>\n",
       "    <tr>\n",
       "      <th>keyword</th>\n",
       "      <th></th>\n",
       "    </tr>\n",
       "  </thead>\n",
       "  <tbody>\n",
       "    <tr>\n",
       "      <th>financial services</th>\n",
       "      <td>0.356532</td>\n",
       "    </tr>\n",
       "    <tr>\n",
       "      <th>banking careers</th>\n",
       "      <td>0.805990</td>\n",
       "    </tr>\n",
       "    <tr>\n",
       "      <th>minimum balance</th>\n",
       "      <td>0.809601</td>\n",
       "    </tr>\n",
       "    <tr>\n",
       "      <th>interest rate</th>\n",
       "      <td>0.918934</td>\n",
       "    </tr>\n",
       "    <tr>\n",
       "      <th>bankruptcy</th>\n",
       "      <td>1.130540</td>\n",
       "    </tr>\n",
       "    <tr>\n",
       "      <th>lawyer</th>\n",
       "      <td>1.364759</td>\n",
       "    </tr>\n",
       "    <tr>\n",
       "      <th>rewards card</th>\n",
       "      <td>1.938794</td>\n",
       "    </tr>\n",
       "    <tr>\n",
       "      <th>certificate of deposit</th>\n",
       "      <td>3.316022</td>\n",
       "    </tr>\n",
       "    <tr>\n",
       "      <th>consolidate loans</th>\n",
       "      <td>3.845810</td>\n",
       "    </tr>\n",
       "    <tr>\n",
       "      <th>atm</th>\n",
       "      <td>4.058587</td>\n",
       "    </tr>\n",
       "    <tr>\n",
       "      <th>overdraft fee</th>\n",
       "      <td>4.602325</td>\n",
       "    </tr>\n",
       "    <tr>\n",
       "      <th>mortgage</th>\n",
       "      <td>5.949117</td>\n",
       "    </tr>\n",
       "    <tr>\n",
       "      <th>joint account</th>\n",
       "      <td>6.141938</td>\n",
       "    </tr>\n",
       "    <tr>\n",
       "      <th>loans</th>\n",
       "      <td>7.902187</td>\n",
       "    </tr>\n",
       "    <tr>\n",
       "      <th>checking account</th>\n",
       "      <td>8.155442</td>\n",
       "    </tr>\n",
       "    <tr>\n",
       "      <th>credit cards</th>\n",
       "      <td>8.306177</td>\n",
       "    </tr>\n",
       "    <tr>\n",
       "      <th>wire transfer</th>\n",
       "      <td>10.287003</td>\n",
       "    </tr>\n",
       "    <tr>\n",
       "      <th>debit</th>\n",
       "      <td>15.181053</td>\n",
       "    </tr>\n",
       "    <tr>\n",
       "      <th>insurance</th>\n",
       "      <td>23.065537</td>\n",
       "    </tr>\n",
       "  </tbody>\n",
       "</table>\n",
       "</div>"
      ],
      "text/plain": [
       "                              CPC\n",
       "keyword                          \n",
       "financial services       0.356532\n",
       "banking careers          0.805990\n",
       "minimum balance          0.809601\n",
       "interest rate            0.918934\n",
       "bankruptcy               1.130540\n",
       "lawyer                   1.364759\n",
       "rewards card             1.938794\n",
       "certificate of deposit   3.316022\n",
       "consolidate loans        3.845810\n",
       "atm                      4.058587\n",
       "overdraft fee            4.602325\n",
       "mortgage                 5.949117\n",
       "joint account            6.141938\n",
       "loans                    7.902187\n",
       "checking account         8.155442\n",
       "credit cards             8.306177\n",
       "wire transfer           10.287003\n",
       "debit                   15.181053\n",
       "insurance               23.065537"
      ]
     },
     "execution_count": 168,
     "metadata": {},
     "output_type": "execute_result"
    }
   ],
   "source": [
    "region = 'US'\n",
    "\n",
    "\n",
    "def rank_cpc(data, region):\n",
    "    df = (data[(data['country'] == region)]\n",
    "          .groupby('keyword')[['CPC']]\n",
    "          .agg('mean')\n",
    "          .sort_values(by='CPC'))\n",
    "    return df\n",
    "\n",
    "\n",
    "us_cpc = rank_cpc(data, region)\n",
    "us_cpc"
   ]
  },
  {
   "cell_type": "markdown",
   "metadata": {},
   "source": [
    "### UK CPC rankings (by mean values)"
   ]
  },
  {
   "cell_type": "code",
   "execution_count": 169,
   "metadata": {},
   "outputs": [
    {
     "data": {
      "text/html": [
       "<div>\n",
       "<style scoped>\n",
       "    .dataframe tbody tr th:only-of-type {\n",
       "        vertical-align: middle;\n",
       "    }\n",
       "\n",
       "    .dataframe tbody tr th {\n",
       "        vertical-align: top;\n",
       "    }\n",
       "\n",
       "    .dataframe thead th {\n",
       "        text-align: right;\n",
       "    }\n",
       "</style>\n",
       "<table border=\"1\" class=\"dataframe\">\n",
       "  <thead>\n",
       "    <tr style=\"text-align: right;\">\n",
       "      <th></th>\n",
       "      <th>CPC</th>\n",
       "    </tr>\n",
       "    <tr>\n",
       "      <th>keyword</th>\n",
       "      <th></th>\n",
       "    </tr>\n",
       "  </thead>\n",
       "  <tbody>\n",
       "    <tr>\n",
       "      <th>credit cards</th>\n",
       "      <td>0.367292</td>\n",
       "    </tr>\n",
       "    <tr>\n",
       "      <th>debit</th>\n",
       "      <td>0.373333</td>\n",
       "    </tr>\n",
       "    <tr>\n",
       "      <th>rewards card</th>\n",
       "      <td>0.522535</td>\n",
       "    </tr>\n",
       "    <tr>\n",
       "      <th>banking careers</th>\n",
       "      <td>0.532143</td>\n",
       "    </tr>\n",
       "    <tr>\n",
       "      <th>interest rate</th>\n",
       "      <td>0.772643</td>\n",
       "    </tr>\n",
       "    <tr>\n",
       "      <th>bankruptcy</th>\n",
       "      <td>0.824024</td>\n",
       "    </tr>\n",
       "    <tr>\n",
       "      <th>atm</th>\n",
       "      <td>0.957555</td>\n",
       "    </tr>\n",
       "    <tr>\n",
       "      <th>lawyer</th>\n",
       "      <td>1.390875</td>\n",
       "    </tr>\n",
       "    <tr>\n",
       "      <th>overdraft fee</th>\n",
       "      <td>1.493898</td>\n",
       "    </tr>\n",
       "    <tr>\n",
       "      <th>certificate of deposit</th>\n",
       "      <td>1.712269</td>\n",
       "    </tr>\n",
       "    <tr>\n",
       "      <th>joint account</th>\n",
       "      <td>1.736249</td>\n",
       "    </tr>\n",
       "    <tr>\n",
       "      <th>wire transfer</th>\n",
       "      <td>2.383636</td>\n",
       "    </tr>\n",
       "    <tr>\n",
       "      <th>checking account</th>\n",
       "      <td>2.910692</td>\n",
       "    </tr>\n",
       "    <tr>\n",
       "      <th>loans</th>\n",
       "      <td>5.101533</td>\n",
       "    </tr>\n",
       "    <tr>\n",
       "      <th>consolidate loans</th>\n",
       "      <td>12.463992</td>\n",
       "    </tr>\n",
       "    <tr>\n",
       "      <th>minimum balance</th>\n",
       "      <td>16.046618</td>\n",
       "    </tr>\n",
       "    <tr>\n",
       "      <th>mortgage</th>\n",
       "      <td>17.239281</td>\n",
       "    </tr>\n",
       "    <tr>\n",
       "      <th>insurance</th>\n",
       "      <td>23.401634</td>\n",
       "    </tr>\n",
       "    <tr>\n",
       "      <th>financial services</th>\n",
       "      <td>29.916872</td>\n",
       "    </tr>\n",
       "  </tbody>\n",
       "</table>\n",
       "</div>"
      ],
      "text/plain": [
       "                              CPC\n",
       "keyword                          \n",
       "credit cards             0.367292\n",
       "debit                    0.373333\n",
       "rewards card             0.522535\n",
       "banking careers          0.532143\n",
       "interest rate            0.772643\n",
       "bankruptcy               0.824024\n",
       "atm                      0.957555\n",
       "lawyer                   1.390875\n",
       "overdraft fee            1.493898\n",
       "certificate of deposit   1.712269\n",
       "joint account            1.736249\n",
       "wire transfer            2.383636\n",
       "checking account         2.910692\n",
       "loans                    5.101533\n",
       "consolidate loans       12.463992\n",
       "minimum balance         16.046618\n",
       "mortgage                17.239281\n",
       "insurance               23.401634\n",
       "financial services      29.916872"
      ]
     },
     "execution_count": 169,
     "metadata": {},
     "output_type": "execute_result"
    }
   ],
   "source": [
    "region = 'UK'\n",
    "uk_cpc = rank_cpc(data, region)\n",
    "uk_cpc"
   ]
  },
  {
   "cell_type": "markdown",
   "metadata": {},
   "source": [
    "# Analysis "
   ]
  },
  {
   "cell_type": "markdown",
   "metadata": {},
   "source": [
    "## US "
   ]
  },
  {
   "cell_type": "markdown",
   "metadata": {},
   "source": [
    "### US Top common keywords in CTR and CPC top 10 "
   ]
  },
  {
   "cell_type": "code",
   "execution_count": 190,
   "metadata": {},
   "outputs": [
    {
     "data": {
      "text/plain": [
       "['atm',\n",
       " 'banking careers',\n",
       " 'rewards card',\n",
       " 'lawyer',\n",
       " 'bankruptcy',\n",
       " 'interest rate']"
      ]
     },
     "execution_count": 190,
     "metadata": {},
     "output_type": "execute_result"
    }
   ],
   "source": [
    "first_index = 0\n",
    "last_index = 10\n",
    "region = 'US'\n",
    "\n",
    "\n",
    "def common_keywords(data, region, first_index=0, last_index=10):\n",
    "    df_ctr = rank_ctr(data, region)\n",
    "    df_cpc = rank_cpc(data, region)\n",
    "    top_ctr = list(df_ctr.index[first_index:last_index])\n",
    "    top_cpc = list(df_cpc.index[first_index:last_index])\n",
    "    top = list(set(top_ctr) & set(top_cpc))\n",
    "    return top\n",
    "\n",
    "\n",
    "top_us_ctr = common_keywords(data, region, first_index=0, last_index=10)\n",
    "top_us_ctr"
   ]
  },
  {
   "cell_type": "markdown",
   "metadata": {},
   "source": [
    "### US Bottom common keywords in CTR and CPC bottom 9 "
   ]
  },
  {
   "cell_type": "code",
   "execution_count": 177,
   "metadata": {},
   "outputs": [
    {
     "data": {
      "text/plain": [
       "['wire transfer', 'loans', 'joint account']"
      ]
     },
     "execution_count": 177,
     "metadata": {},
     "output_type": "execute_result"
    }
   ],
   "source": [
    "common_keywords(data, 'US', first_index=11, last_index=19)"
   ]
  },
  {
   "cell_type": "markdown",
   "metadata": {},
   "source": [
    "## UK"
   ]
  },
  {
   "cell_type": "markdown",
   "metadata": {},
   "source": [
    "### UK Top 10 keywords in CTR and CPC"
   ]
  },
  {
   "cell_type": "code",
   "execution_count": 179,
   "metadata": {},
   "outputs": [
    {
     "data": {
      "text/plain": [
       "['atm',\n",
       " 'banking careers',\n",
       " 'rewards card',\n",
       " 'bankruptcy',\n",
       " 'credit cards',\n",
       " 'interest rate',\n",
       " 'debit',\n",
       " 'overdraft fee']"
      ]
     },
     "execution_count": 179,
     "metadata": {},
     "output_type": "execute_result"
    }
   ],
   "source": [
    "common_keywords(data, 'UK', first_index=0, last_index=10)"
   ]
  },
  {
   "cell_type": "markdown",
   "metadata": {},
   "source": [
    "### UK Bottom 9 keywords in CTR and CPC"
   ]
  },
  {
   "cell_type": "code",
   "execution_count": 180,
   "metadata": {},
   "outputs": [
    {
     "data": {
      "text/plain": [
       "['insurance',\n",
       " 'consolidate loans',\n",
       " 'minimum balance',\n",
       " 'financial services',\n",
       " 'loans',\n",
       " 'checking account']"
      ]
     },
     "execution_count": 180,
     "metadata": {},
     "output_type": "execute_result"
    }
   ],
   "source": [
    "common_keywords(data, 'UK', first_index=11, last_index=19)"
   ]
  },
  {
   "cell_type": "markdown",
   "metadata": {},
   "source": [
    "## Visualizations"
   ]
  },
  {
   "cell_type": "code",
   "execution_count": 192,
   "metadata": {},
   "outputs": [
    {
     "data": {
      "text/plain": [
       "['atm',\n",
       " 'banking careers',\n",
       " 'rewards card',\n",
       " 'lawyer',\n",
       " 'bankruptcy',\n",
       " 'interest rate']"
      ]
     },
     "execution_count": 192,
     "metadata": {},
     "output_type": "execute_result"
    }
   ],
   "source": [
    "top_us_ctr"
   ]
  },
  {
   "cell_type": "code",
   "execution_count": 204,
   "metadata": {},
   "outputs": [
    {
     "data": {
      "image/png": "[encoded data removed]",
      "text/plain": [
       "<Figure size 864x360 with 1 Axes>"
      ]
     },
     "metadata": {
      "needs_background": "light"
     },
     "output_type": "display_data"
    }
   ],
   "source": [
    "region = 'US'\n",
    "df = data[(data['country'] == region)]\n",
    "df.pivot_table(columns='keyword', values='CPC', index=df.index, fill_value=0)[top_us_ctr].plot(figsize=(12,5));"
   ]
  },
  {
   "cell_type": "code",
   "execution_count": 214,
   "metadata": {},
   "outputs": [
    {
     "data": {
      "image/png": "[encoded data removed]",
      "text/plain": [
       "<Figure size 864x360 with 1 Axes>"
      ]
     },
     "metadata": {
      "needs_background": "light"
     },
     "output_type": "display_data"
    }
   ],
   "source": [
    "region = 'US'\n",
    "df = data[(data['country'] == region)]\n",
    "df = df.pivot_table(columns='keyword', values='CTR', index=df.index, fill_value=0)[top_us_ctr]\n",
    "df.plot(figsize=(12,5));"
   ]
  },
  {
   "cell_type": "code",
   "execution_count": 264,
   "metadata": {},
   "outputs": [
    {
     "data": {
      "text/html": [
       "<div>\n",
       "<style scoped>\n",
       "    .dataframe tbody tr th:only-of-type {\n",
       "        vertical-align: middle;\n",
       "    }\n",
       "\n",
       "    .dataframe tbody tr th {\n",
       "        vertical-align: top;\n",
       "    }\n",
       "\n",
       "    .dataframe thead th {\n",
       "        text-align: right;\n",
       "    }\n",
       "</style>\n",
       "<table border=\"1\" class=\"dataframe\">\n",
       "  <thead>\n",
       "    <tr style=\"text-align: right;\">\n",
       "      <th>keyword</th>\n",
       "      <th>atm</th>\n",
       "      <th>banking careers</th>\n",
       "      <th>rewards card</th>\n",
       "      <th>lawyer</th>\n",
       "      <th>bankruptcy</th>\n",
       "      <th>interest rate</th>\n",
       "    </tr>\n",
       "    <tr>\n",
       "      <th>date</th>\n",
       "      <th></th>\n",
       "      <th></th>\n",
       "      <th></th>\n",
       "      <th></th>\n",
       "      <th></th>\n",
       "      <th></th>\n",
       "    </tr>\n",
       "  </thead>\n",
       "  <tbody>\n",
       "    <tr>\n",
       "      <th>2012-05-26</th>\n",
       "      <td>0.0</td>\n",
       "      <td>0.0</td>\n",
       "      <td>0.0</td>\n",
       "      <td>0.000094</td>\n",
       "      <td>0.068966</td>\n",
       "      <td>0.0</td>\n",
       "    </tr>\n",
       "    <tr>\n",
       "      <th>2012-05-27</th>\n",
       "      <td>0.0</td>\n",
       "      <td>0.0</td>\n",
       "      <td>0.0</td>\n",
       "      <td>0.000094</td>\n",
       "      <td>0.068182</td>\n",
       "      <td>0.0</td>\n",
       "    </tr>\n",
       "    <tr>\n",
       "      <th>2012-05-29</th>\n",
       "      <td>0.0</td>\n",
       "      <td>0.0</td>\n",
       "      <td>0.0</td>\n",
       "      <td>0.000094</td>\n",
       "      <td>0.068182</td>\n",
       "      <td>0.0</td>\n",
       "    </tr>\n",
       "    <tr>\n",
       "      <th>2012-05-30</th>\n",
       "      <td>0.0</td>\n",
       "      <td>0.0</td>\n",
       "      <td>0.0</td>\n",
       "      <td>0.000094</td>\n",
       "      <td>0.069444</td>\n",
       "      <td>0.0</td>\n",
       "    </tr>\n",
       "    <tr>\n",
       "      <th>2012-05-31</th>\n",
       "      <td>0.0</td>\n",
       "      <td>0.0</td>\n",
       "      <td>0.0</td>\n",
       "      <td>0.000094</td>\n",
       "      <td>0.069444</td>\n",
       "      <td>0.0</td>\n",
       "    </tr>\n",
       "  </tbody>\n",
       "</table>\n",
       "</div>"
      ],
      "text/plain": [
       "keyword     atm  banking careers  rewards card    lawyer  bankruptcy  \\\n",
       "date                                                                   \n",
       "2012-05-26  0.0              0.0           0.0  0.000094    0.068966   \n",
       "2012-05-27  0.0              0.0           0.0  0.000094    0.068182   \n",
       "2012-05-29  0.0              0.0           0.0  0.000094    0.068182   \n",
       "2012-05-30  0.0              0.0           0.0  0.000094    0.069444   \n",
       "2012-05-31  0.0              0.0           0.0  0.000094    0.069444   \n",
       "\n",
       "keyword     interest rate  \n",
       "date                       \n",
       "2012-05-26            0.0  \n",
       "2012-05-27            0.0  \n",
       "2012-05-29            0.0  \n",
       "2012-05-30            0.0  \n",
       "2012-05-31            0.0  "
      ]
     },
     "execution_count": 264,
     "metadata": {},
     "output_type": "execute_result"
    }
   ],
   "source": [
    "df.tail()"
   ]
  },
  {
   "cell_type": "code",
   "execution_count": 260,
   "metadata": {},
   "outputs": [
    {
     "data": {
      "image/png": "[encoded data removed]",
      "text/plain": [
       "<Figure size 864x288 with 12 Axes>"
      ]
     },
     "metadata": {
      "needs_background": "light"
     },
     "output_type": "display_data"
    }
   ],
   "source": [
    "fig, (ax1, ax2, ax3, ax4, ax5, ax6) = plt.subplots(6, 1, sharex=True, figsize=(12,4))\n",
    "title = 'Broken Spears decrease overtime'\n",
    "\n",
    "for column, axess in zip(df.columns[::-1],(ax1, ax2, ax3, ax4, ax5, ax6)):\n",
    "    df[column].plot( kind = 'density',ax = axess, color='orange' )\n",
    "    axess.set_ylabel( str(column), rotation=0, labelpad =75, fontsize=16)\n",
    "    axess.get_yaxis().set_ticks([])\n",
    "    #axess.set_xticks(means)\n",
    "    axess.set_facecolor('.97')\n",
    "    \n",
    "    axess2 = axess.twinx()\n",
    "    std = round(df[column].std(),1)\n",
    "    local_low = round(df[column].min(),1)\n",
    "    local_max = round(df[column].max(),1)\n",
    "    local_mean = round(df[column].mean(),1)\n",
    "    right_string = 'std: {std} mean: {local_mean} max: {local_max}'.format(std=std, local_mean=local_mean,  local_max=local_max)\n",
    "    axess2.set_ylabel(right_string, rotation=0, labelpad = 125, fontsize=14, color ='gray')\n",
    "    axess2.get_yaxis().set_ticks([])\n",
    "ax1.set_title(title, fontsize=18);\n",
    "    \n",
    "#fig.tight_layout()"
   ]
  },
  {
   "cell_type": "code",
   "execution_count": 211,
   "metadata": {},
   "outputs": [
    {
     "data": {
      "text/plain": [
       "Timestamp('2011-12-25 00:00:00')"
      ]
     },
     "execution_count": 211,
     "metadata": {},
     "output_type": "execute_result"
    }
   ],
   "source": [
    "data.index.min()"
   ]
  },
  {
   "cell_type": "code",
   "execution_count": 212,
   "metadata": {},
   "outputs": [
    {
     "data": {
      "text/plain": [
       "Timestamp('2012-05-31 00:00:00')"
      ]
     },
     "execution_count": 212,
     "metadata": {},
     "output_type": "execute_result"
    }
   ],
   "source": [
    "data.index.max()"
   ]
  },
  {
   "cell_type": "markdown",
   "metadata": {},
   "source": [
    "# General Trends"
   ]
  },
  {
   "cell_type": "code",
   "execution_count": 239,
   "metadata": {},
   "outputs": [
    {
     "data": {
      "image/png": "[encoded data removed]",
      "text/plain": [
       "<Figure size 864x360 with 1 Axes>"
      ]
     },
     "metadata": {
      "needs_background": "light"
     },
     "output_type": "display_data"
    }
   ],
   "source": [
    "title = 'US weekly mean CTR'\n",
    "region='US'\n",
    "data[(data['country']==region)][['CTR']].resample('W').mean().plot(figsize=(12,5), title=title, legend=False);\n",
    "plt.xlabel(\"\");"
   ]
  },
  {
   "cell_type": "code",
   "execution_count": 240,
   "metadata": {},
   "outputs": [
    {
     "data": {
      "image/png": "[encoded data removed]",
      "text/plain": [
       "<Figure size 864x360 with 1 Axes>"
      ]
     },
     "metadata": {
      "needs_background": "light"
     },
     "output_type": "display_data"
    }
   ],
   "source": [
    "title = 'US weekly mean CPC'\n",
    "region='US'\n",
    "data[(data['country']==region)][['CPC']].resample('W').mean().plot(figsize=(12,5), title=title, legend=False);\n",
    "plt.xlabel(\"\");"
   ]
  },
  {
   "cell_type": "code",
   "execution_count": 242,
   "metadata": {},
   "outputs": [
    {
     "data": {
      "image/png": "[encoded data removed]",
      "text/plain": [
       "<Figure size 864x360 with 1 Axes>"
      ]
     },
     "metadata": {
      "needs_background": "light"
     },
     "output_type": "display_data"
    }
   ],
   "source": [
    "title = 'UK weekly mean CPC'\n",
    "region='UK'\n",
    "data[(data['country']==region)][['CPC']].resample('W').mean().plot(figsize=(12,5), title=title, legend=False);\n",
    "plt.xlabel(\"\");"
   ]
  },
  {
   "cell_type": "code",
   "execution_count": 241,
   "metadata": {},
   "outputs": [
    {
     "data": {
      "image/png": "[encoded data removed]",
      "text/plain": [
       "<Figure size 864x360 with 1 Axes>"
      ]
     },
     "metadata": {
      "needs_background": "light"
     },
     "output_type": "display_data"
    }
   ],
   "source": [
    "title = 'UK weekly mean CTR'\n",
    "region='UK'\n",
    "data[(data['country']==region)][['CTR']].resample('W').mean().plot(figsize=(12,5), title=title, legend=False);\n",
    "plt.xlabel(\"\");"
   ]
  },
  {
   "cell_type": "code",
   "execution_count": 269,
   "metadata": {},
   "outputs": [
    {
     "data": {
      "text/plain": [
       "<matplotlib.axes._subplots.AxesSubplot at 0x11a94c438>"
      ]
     },
     "execution_count": 269,
     "metadata": {},
     "output_type": "execute_result"
    },
    {
     "data": {
      "image/png": "[encoded data removed]",
      "text/plain": [
       "<Figure size 432x288 with 1 Axes>"
      ]
     },
     "metadata": {
      "needs_background": "light"
     },
     "output_type": "display_data"
    }
   ],
   "source": [
    "df[['lawyer']].resample(\"W\").sum().plot()"
   ]
  },
  {
   "cell_type": "code",
   "execution_count": null,
   "metadata": {},
   "outputs": [],
   "source": []
  }
 ],
 "metadata": {
  "kernelspec": {
   "display_name": "Python [conda env:stats]",
   "language": "python",
   "name": "conda-env-stats-py"
  },
  "latex_envs": {
   "LaTeX_envs_menu_present": true,
   "autoclose": false,
   "autocomplete": true,
   "bibliofile": "biblio.bib",
   "cite_by": "apalike",
   "current_citInitial": 1,
   "eqLabelWithNumbers": true,
   "eqNumInitial": 1,
   "hotkeys": {
    "equation": "Ctrl-E",
    "itemize": "Ctrl-I"
   },
   "labels_anchors": false,
   "latex_user_defs": false,
   "report_style_numbering": false,
   "user_envs_cfg": false
  },
  "toc": {
   "base_numbering": 1,
   "nav_menu": {},
   "number_sections": true,
   "sideBar": true,
   "skip_h1_title": false,
   "title_cell": "Table of Contents",
   "title_sidebar": "Contents",
   "toc_cell": true,
   "toc_position": {},
   "toc_section_display": true,
   "toc_window_display": false
  },
  "varInspector": {
   "cols": {
    "lenName": 16,
    "lenType": 16,
    "lenVar": 40
   },
   "kernels_config": {
    "python": {
     "delete_cmd_postfix": "",
     "delete_cmd_prefix": "del ",
     "library": "var_list.py",
     "varRefreshCmd": "print(var_dic_list())"
    },
    "r": {
     "delete_cmd_postfix": ") ",
     "delete_cmd_prefix": "rm(",
     "library": "var_list.r",
     "varRefreshCmd": "cat(var_dic_list()) "
    }
   },
   "types_to_exclude": [
    "module",
    "function",
    "builtin_function_or_method",
    "instance",
    "_Feature"
   ],
   "window_display": false
  }
 },
 "nbformat": 4,
 "nbformat_minor": 2
}
